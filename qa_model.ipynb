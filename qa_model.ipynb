{
 "cells": [
  {
   "cell_type": "code",
   "execution_count": null,
   "id": "8fbcd7ab",
   "metadata": {},
   "outputs": [],
   "source": [
    "!pip install transformers"
   ]
  },
  {
   "cell_type": "code",
   "execution_count": 28,
   "id": "c78b8a93",
   "metadata": {},
   "outputs": [],
   "source": [
    "import re\n",
    "\n",
    "import textract\n",
    "import pandas as pd"
   ]
  },
  {
   "cell_type": "code",
   "execution_count": 2,
   "id": "221780f8",
   "metadata": {},
   "outputs": [],
   "source": [
    "text = textract.process('EUtaxonomy.pdf', method='pdfminer').decode()"
   ]
  },
  {
   "cell_type": "code",
   "execution_count": 3,
   "id": "8484fe5e",
   "metadata": {},
   "outputs": [],
   "source": [
    "split_text = re.split(r\"\\s*?\\n\\s*?\\n\\s*?\", text)"
   ]
  },
  {
   "cell_type": "code",
   "execution_count": 4,
   "id": "b423a5ee",
   "metadata": {},
   "outputs": [],
   "source": [
    "def cleaning_text(raw_text):\n",
    "    raw_text = raw_text.replace(\"\\n\", \" \").replace(\"  \", \" \").strip(\" \")\n",
    "    return re.sub(r'[^\\w\\s]', '', raw_text).strip(\" \")"
   ]
  },
  {
   "cell_type": "code",
   "execution_count": 5,
   "id": "92dbffca",
   "metadata": {},
   "outputs": [],
   "source": [
    "MIN_PARAGRAPH_CHARACTERS = 200  # Can adjust this value\n",
    "paragraphs = []\n",
    "for text_section in split_text:\n",
    "    clean_text = cleaning_text(text_section)\n",
    "    if len(clean_text) >= MIN_PARAGRAPH_CHARACTERS:\n",
    "        paragraphs.append(clean_text)"
   ]
  },
  {
   "cell_type": "code",
   "execution_count": 6,
   "id": "138b0c87",
   "metadata": {},
   "outputs": [],
   "source": [
    "df = pd.DataFrame({\"paragraph\": paragraphs})\n",
    "df.to_csv(\"paragraphs.csv\")"
   ]
  },
  {
   "cell_type": "code",
   "execution_count": 7,
   "id": "58c758a8",
   "metadata": {},
   "outputs": [],
   "source": [
    "import pandas as pd\n",
    "\n",
    "df = pd.read_csv(\"paragraphs.csv\")\n",
    "\n",
    "questions = [\n",
    "    [\"What fuel is used for manufacturing of chlorine?\"],\n",
    "    [\"What metric is used for evaluating emission?\"],\n",
    "    [\"How can carbon emission of the processes of cement clinker be reduced?\"],\n",
    "    [\"How is the Weighted Cogeneration Threshold calculated?\"],\n",
    "    [\"What is carbon capture and sequestration?\"],\n",
    "    [\"What stages does CCS consist of?\"],\n",
    "    [\"What should be the average energy consumption of a water supply system?\"],\n",
    "    [\"What are examples of sludge treatments?\"],\n",
    "    [\"How is the process of anaerobic digestion?\"],\n",
    "    [\"How is reforestation defined?\"],\n",
    "    [\"What is the threshold of emssion for inland passenger water transport?\"], \n",
    "    [\"What are the requirements of reporting for electricity generation from natural gas where there might be fugative emissions?\"]\n",
    "]"
   ]
  },
  {
   "cell_type": "code",
   "execution_count": 8,
   "id": "6059a141",
   "metadata": {},
   "outputs": [],
   "source": [
    "from sklearn.feature_extraction.text import TfidfVectorizer\n",
    "\n",
    "vectorizer = TfidfVectorizer()\n",
    "vector_corpus = vectorizer.fit_transform(df[\"paragraph\"])"
   ]
  },
  {
   "cell_type": "code",
   "execution_count": 9,
   "id": "b4236b5b",
   "metadata": {},
   "outputs": [],
   "source": [
    "from sklearn.metrics.pairwise import linear_kernel\n",
    "\n",
    "qcontexts = []\n",
    "for question in questions:\n",
    "    q_v = vectorizer.transform(question)\n",
    "    lk_rank = linear_kernel(q_v, vector_corpus).flatten()\n",
    "    qcontexts.append((question, df[\"paragraph\"][lk_rank.argsort()[-1]]))"
   ]
  },
  {
   "cell_type": "code",
   "execution_count": 10,
   "id": "79c9de99",
   "metadata": {},
   "outputs": [
    {
     "name": "stderr",
     "output_type": "stream",
     "text": [
      "/var/folders/ld/bth865bn75s3_wyszcgrw53h0000gn/T/ipykernel_35380/504866579.py:20: DeprecationWarning: Call to deprecated `docvecs` (The `docvecs` property has been renamed `dv`.).\n",
      "  sims = model.docvecs.most_similar([inferred_vector], topn=len(model.docvecs))\n"
     ]
    }
   ],
   "source": [
    "import gensim\n",
    "\n",
    "def read_corpus(text, tokens_only=False):\n",
    "    for i, line in enumerate(text):\n",
    "        tokens = gensim.utils.simple_preprocess(line)\n",
    "        if tokens_only:\n",
    "            yield tokens\n",
    "        else:\n",
    "            # For training data, add tags\n",
    "            yield gensim.models.doc2vec.TaggedDocument(tokens, [i])\n",
    "\n",
    "corpus = list(read_corpus(df[\"paragraph\"].values))\n",
    "model = gensim.models.doc2vec.Doc2Vec(vector_size=50, min_count=2, epochs=40)\n",
    "model.build_vocab(corpus)\n",
    "model.train(corpus, total_examples=model.corpus_count, epochs=model.epochs)\n",
    "qcontext_doc2vec = []\n",
    "for question in questions:\n",
    "    q1 = list(read_corpus(question, tokens_only=True))\n",
    "    inferred_vector = model.infer_vector(q1[0])\n",
    "    sims = model.docvecs.most_similar([inferred_vector], topn=len(model.docvecs))\n",
    "    qcontext_doc2vec.append((question, df[\"paragraph\"][sims[0][0]]))"
   ]
  },
  {
   "cell_type": "code",
   "execution_count": 11,
   "id": "d36d6dd7",
   "metadata": {},
   "outputs": [
    {
     "name": "stdout",
     "output_type": "stream",
     "text": [
      "What fuel is used for manufacturing of chlorine?\n",
      "tfidf: For chlorine the value corresponding to an efficient level of electricity consumption was selected as the threshold given that the main source of energy used for the production of chlorine is electricity and by improving the energy efficiency of the process as well as using low carbon electricity sources  the activity can substantially contribute to the climate change mitigation objective\n",
      "\n",
      "doc2vec: Defined as development andor use of integrated systems ie combination of software and hardware or software applications that minimize resource consumption in other sectors of the economy these digitilasion solution are essential to ensure that other sectors of the economy  agriculture energy transport buildings  meet the eligibility criteria set for other sectors inclusion in the EU Taxonomy\n",
      "--------------------\n",
      "What metric is used for evaluating emission?\n",
      "tfidf: The threshold metric is gCO2e and not an intensity metric such as gCO2e unit of production as this enables the Taxonomy to be applied by both those reducing emission intensity eg through efficiency while also requiring them to reduce emissions overall  the overall goal\n",
      "\n",
      "doc2vec: To determine eligibility it is possible to consider a System covering multiple control areas which are interconnected and with significant energy exchanges between them In such a case the weighted average emissions factor across all included control areas is used to determine eligibility and individual subordinated transmission or distribution systems within this System will not be required to demonstrate compliance separately\n",
      "--------------------\n",
      "How can carbon emission of the processes of cement clinker be reduced?\n",
      "tfidf: cement eg concrete for specific building applications The focus should be on the substitution of clinker by binders with a lower content of embedded CO2 Cement is currently produced in many different qualities which are sometimes used in different applications As a result exchange between two qualities is not always possible Therefore on the way to a climateneutral economy it has to be determined which types of cement in which application areas can be replaced by those with a reduced clinker content taking into account the availability of clinker substitutes Within the decarbonisation of other industries it may be possible that material flows used today eg fly ash will no longer be available in the future as a clinker substitute while the suitability of other materials has not yet been proven The cement types which are absolutely necessary in a climateneutral economy and cannot be replaced must be produced in a climatefriendly way For these types it then should be examined to what extent the clinker ratio can be lowered how energy efficiency can be increased how electricity from renewable energies can be used etc\n",
      "\n",
      "doc2vec: Embodied carbon emissions should represent less than 50 of the total carbon emissions saved by the use of the energy efficient equipment Carbon emissions and savings at the endoflife stage are not included in the assessment for this criteria too uncertain\n",
      "--------------------\n",
      "How is the Weighted Cogeneration Threshold calculated?\n",
      "tfidf: The threshold will be set at a single value for all new investments in electricity generation until it is revised in future It applies equally to the production of heating  cooling and cogeneration of heat and electricity\n",
      "\n",
      "doc2vec: 197 Hydrogen electrolysis installation will be part of the taxonomy if it shows a considerable level of green electricity consumption and shows a pathway towards an increased share of green electricity over the years to come\n",
      "--------------------\n",
      "What is carbon capture and sequestration?\n",
      "tfidf: The Technical Expert Group has developed criteria to define the eligibility of facilities used to capture carbon dioxide directly from the atmosphere and separately to capture carbon dioxide directly from anthropogenic activities\n",
      "\n",
      "doc2vec: 156 This requirement is taken from RED II Article 29 paragraphs 4 and 5 It is be applied to all perennial crop production whether for biofuels bioliquids or biomass or for food or feed uses The intention is per RED II namely to ensure high carbon stock land is not converted for the purposes for agricultural production\n",
      "--------------------\n",
      "What stages does CCS consist of?\n",
      "tfidf: A typical CCS chain consists of three main stages capture transport and storage CO2 transport and storage are established and proven processes with decades of operation and wellestablished regulation here in Europe\n",
      "\n",
      "doc2vec: Any heatcool generation technology can be included in the taxonomy if it can be demonstrated using an ISO 14067 or a GHG Protocol Product Lifecycle Standardcompliant Product Carbon Footprint PCF assessment that the life cycle impacts for producing 1 kWh of heatcool are below the declining threshold\n",
      "--------------------\n",
      "What should be the average energy consumption of a water supply system?\n",
      "tfidf: An average energy consumption of a water supply system of 05 kwh per cubic meter billedunbilled authorized water supply indicates a high performing system in terms of energy consumption Several energy efficiency measures can reduce directly the energy consumption in a water supply system enabling significant reductions of GHG emissions these are inter alia\n",
      "\n",
      "doc2vec: Other Inland waterways vessels are eligible if direct emissions are below 50 gCO2e emissions per passenger kilometre gCO2epkm or 926 g per passenger nautical mile gCO2epnm Eligibility should be reviewed in 2025\n",
      "--------------------\n",
      "What are examples of sludge treatments?\n",
      "tfidf: Anaerobic Digestion AD and in some cases aerobic digestion are examples of sludge treatments In AD microorganisms decompose the organic matter of the sludge in the absence of oxygen and produce methanerich biogas\n",
      "\n",
      "doc2vec: Anaerobic Digestion AD and in some cases aerobic digestion are examples of sludge treatments In AD microorganisms decompose the organic matter of the sludge in the absence of oxygen and produce methanerich biogas\n",
      "--------------------\n",
      "How is the process of anaerobic digestion?\n",
      "tfidf: The main issues raised in the public feedback on activities in the subsector WSWR related to broadening the scope of some activities For anaerobic digestion of biowaste and similar for anaerobic digestion of sewage sludge and landfill gas capture and utilization respondents suggested to allow for additional uses of the produced biogas or landfill gas For the anaerobic digestion of biowaste respondents warned against the exclusion of certain crops and against the exclusion of blending of feedstocks Both issues are reflected in the revised criteria\n",
      "\n",
      "doc2vec: Anaerobic digestion AD is a process by which microorganisms decompose biodegradable material in the absence of oxygen As part of an integrated waste management system AD is a valid route to divert biodegradable waste from landfilling and thus reduce the uncontrolled emissions of landfill gas in particular methane The AD process produces methanerich biogas under controlled conditions and a sludgelike or liquid residue termed digestate Biogas can be used in multiple forms and applications that displace fossil fuels\n",
      "--------------------\n",
      "How is reforestation defined?\n",
      "tfidf: Different Forest NACE The current proposal for a Forest Taxonomy includes five NACE sector distinctions Afforestation Reforestation Rehabilitationrestoration Existing Forest Management and Conservation Forests Would it be necessary to establish a link between the use of wood products in another economy NACE and a specific forest sector NACE If so which one as all form part of the forest management system How would this be done and what if a product is used in multiple NACE categories how to count the multiple substitution\n",
      "\n",
      "doc2vec: Some extra information is provided throughout this report for the economic activities in the taxonomy and activities which should be included in future subject to full DNSH assessment These examples were selected on the basis of the following characteristics\n",
      "--------------------\n",
      "What is the threshold of emssion for inland passenger water transport?\n",
      "tfidf: The threshold of 50g CO2epkm relates to the thresholds set for road passenger vehicles and passenger rail The criteria is based on actual ridership passengerkm and not capacity offered seat km or placeskm This should be justified through real monitoring data from operations or exante demand assessments If inland passenger water transport operations can at least match the thresholds of those modes it is deemed to be making a substantial contribution as it offers significantly lower emissions than average car emissions\n",
      "\n",
      "doc2vec: The carbon intensity of freight rail even if diesel is in most cases significantly lower than road freight transport rail freight transport at least meeting the threshold proposed in the road transport HDV criteria is eligible Average direct emissions for diesel rail is in the range of 1840 g CO2\n",
      "--------------------\n",
      "What are the requirements of reporting for electricity generation from natural gas where there might be fugative emissions?\n",
      "tfidf: According to the methodology to calculate ETS benchmarks emissions from electricity are considered where direct emissions and indirect emissions from electricity are to a certain level interchangeable\n",
      "\n",
      "doc2vec: Promote natural regeneration when in line with ecological conditions and stands requirements120 and adopt artificial regeneration only in cases of proved unsuccessful site spread on natural regeneration MF\n",
      "--------------------\n"
     ]
    }
   ],
   "source": [
    "for ic,(question, context)  in enumerate(qcontexts):\n",
    "    print(question[0])\n",
    "    print(f\"tfidf: {context}\\n\\ndoc2vec: {qcontext_doc2vec[ic][1]}\")\n",
    "    print(\"-\"*20)"
   ]
  },
  {
   "cell_type": "code",
   "execution_count": 12,
   "id": "e99dcf12",
   "metadata": {},
   "outputs": [],
   "source": [
    "MODEL = \"distilbert-base-uncased-distilled-squad\"\n",
    "TEST_SAMPLE_SIZE = 1000"
   ]
  },
  {
   "cell_type": "code",
   "execution_count": 13,
   "id": "d9a94efa",
   "metadata": {},
   "outputs": [],
   "source": [
    "import random\n",
    "import json\n",
    "\n",
    "with open(\"dev-v2.0.json\") as f:\n",
    "    data = json.load(f)\n",
    "\n",
    "def get_qustion_answers_context(data):\n",
    "    qac = []\n",
    "    for idata in data[\"data\"]:\n",
    "        for paragraph in idata[\"paragraphs\"]:\n",
    "            for question in paragraph[\"qas\"]:\n",
    "                answers = [answer[\"text\"] for answer in question[\"answers\"]]\n",
    "                qac.append((question[\"question\"], answers , paragraph[\"context\"]))\n",
    "    return qac\n",
    "\n",
    "qac = random.sample(get_qustion_answers_context(data), TEST_SAMPLE_SIZE)"
   ]
  },
  {
   "cell_type": "code",
   "execution_count": 14,
   "id": "45af2ce0",
   "metadata": {},
   "outputs": [],
   "source": [
    "def get_em_scores(qac, qa_model):\n",
    "    score = []\n",
    "    for question, answers, context in qac:\n",
    "        answer = qa_model(question=question, context=context)\n",
    "        if not answer and not answers:\n",
    "            score.append(True)\n",
    "        else:\n",
    "            score.append(any([answer.lower()==ans.lower() for ans in answers]))\n",
    "    return score\n"
   ]
  },
  {
   "cell_type": "code",
   "execution_count": 15,
   "id": "55e5ad17",
   "metadata": {},
   "outputs": [
    {
     "data": {
      "application/vnd.jupyter.widget-view+json": {
       "model_id": "a8319c0a16cc44cf902a0641b6c49313",
       "version_major": 2,
       "version_minor": 0
      },
      "text/plain": [
       "Downloading:   0%|          | 0.00/265M [00:00<?, ?B/s]"
      ]
     },
     "metadata": {},
     "output_type": "display_data"
    },
    {
     "data": {
      "application/vnd.jupyter.widget-view+json": {
       "model_id": "53e461325803458ca7359c4fce15f8b2",
       "version_major": 2,
       "version_minor": 0
      },
      "text/plain": [
       "Downloading:   0%|          | 0.00/28.0 [00:00<?, ?B/s]"
      ]
     },
     "metadata": {},
     "output_type": "display_data"
    },
    {
     "data": {
      "application/vnd.jupyter.widget-view+json": {
       "model_id": "ddefacc0a3ad44d89bc00729955a0757",
       "version_major": 2,
       "version_minor": 0
      },
      "text/plain": [
       "Downloading:   0%|          | 0.00/232k [00:00<?, ?B/s]"
      ]
     },
     "metadata": {},
     "output_type": "display_data"
    },
    {
     "data": {
      "application/vnd.jupyter.widget-view+json": {
       "model_id": "1f3454dd9140431296190957503ac55c",
       "version_major": 2,
       "version_minor": 0
      },
      "text/plain": [
       "Downloading:   0%|          | 0.00/466k [00:00<?, ?B/s]"
      ]
     },
     "metadata": {},
     "output_type": "display_data"
    }
   ],
   "source": [
    "from transformers import pipeline\n",
    "\n",
    "qamodel = pipeline(\"question-answering\", model=MODEL, tokenizer=MODEL, device=-1)\n",
    "\n",
    "def get_answer_pipeline(question, context):\n",
    "    answer = qamodel(question=question, context=context)\n",
    "    if answer[\"score\"] < 0.6:\n",
    "        return \"\"\n",
    "    else:\n",
    "        return answer[\"answer\"].rstrip(\".\").rstrip(\",\").lstrip(\"(\").rstrip(\")\").rstrip(\".\").strip(\"'\").strip(\":\")\n"
   ]
  },
  {
   "cell_type": "code",
   "execution_count": 16,
   "id": "a590fb20",
   "metadata": {},
   "outputs": [
    {
     "name": "stdout",
     "output_type": "stream",
     "text": [
      "0.529\n"
     ]
    }
   ],
   "source": [
    "scores = get_em_scores(qac, get_answer_pipeline)\n",
    "print(sum(scores)/len(scores))"
   ]
  },
  {
   "cell_type": "code",
   "execution_count": 33,
   "id": "dcde4ac9",
   "metadata": {},
   "outputs": [],
   "source": [
    "from transformers import AutoTokenizer, AutoModelForQuestionAnswering\n",
    "import torch\n",
    "import numpy as np\n",
    "\n",
    "tokenizer = AutoTokenizer.from_pretrained(MODEL)\n",
    "model = AutoModelForQuestionAnswering.from_pretrained(MODEL)\n",
    "\n",
    "\n",
    "def get_answer(question, context):\n",
    "    inputs = tokenizer.encode_plus(question, \n",
    "                                   context, \n",
    "                                   add_special_tokens=True, \n",
    "                                   return_tensors=\"pt\", \n",
    "                                   max_length=tokenizer.max_len, truncation=True)\n",
    "    input_ids = inputs[\"input_ids\"].tolist()[0]\n",
    "\n",
    "    with torch.no_grad():\n",
    "        answer_start_scores, answer_end_scores = model(**inputs)\n",
    "        answer_start_scores, answer_end_scores = answer_start_scores.cpu().numpy(), answer_end_scores.cpu().numpy()\n",
    "        \n",
    "    answer_start = np.argmax(\n",
    "        answer_start_scores\n",
    "    )  # Get the most likely beginning of answer with the argmax of the score\n",
    "    answer_end = np.argmax(\n",
    "        answer_end_scores\n",
    "    ) + 1  # Get the most likely end of answer with the argmax of the score\n",
    "    \n",
    "    # Normalize logits and spans to retrieve the answer\n",
    "    start_ = np.exp(answer_start_scores - np.log(np.sum(np.exp(answer_start_scores), axis=-1, keepdims=True)))\n",
    "    end_ = np.exp(answer_end_scores - np.log(np.sum(np.exp(answer_end_scores), axis=-1, keepdims=True)))\n",
    "    score = np.mean([start_[0][answer_start], end_[0][answer_end-1]])\n",
    "    \n",
    "    if score > 0.9:\n",
    "        answer = tokenizer.convert_tokens_to_string(tokenizer.convert_ids_to_tokens(input_ids[answer_start:answer_end]))\n",
    "        return answer\n",
    "    else:\n",
    "        return \"\""
   ]
  },
  {
   "cell_type": "code",
   "execution_count": null,
   "id": "c10a5e41",
   "metadata": {
    "scrolled": true
   },
   "outputs": [],
   "source": [
    "scores = get_em_scores(qac, get_answer)\n",
    "print(sum(scores)/len(scores))\n"
   ]
  },
  {
   "cell_type": "code",
   "execution_count": 19,
   "id": "a80b9469",
   "metadata": {},
   "outputs": [],
   "source": [
    "import pandas as pd\n",
    "\n",
    "df = pd.read_csv(\"paragraphs.csv\")\n",
    "\n",
    "questions = [\n",
    "    [\"What fuel is used for manufacturing of chlorine?\"],\n",
    "    [\"What metric is used for evaluating emission?\"],\n",
    "    [\"How can carbon emission of the processes of cement clinker be reduced?\"],\n",
    "    [\"How is the Weighted Cogeneration Threshold calculated?\"],\n",
    "    [\"What is carbon capture and sequestration?\"],\n",
    "    [\"What stages does CCS consist of?\"],\n",
    "    [\"What should be the average energy consumption of a water supply system?\"],\n",
    "    [\"What are examples of sludge treatments?\"],\n",
    "    [\"How is the process of anaerobic digestion?\"],\n",
    "    [\"How is reforestation defined?\"],\n",
    "    [\"What is the threshold of emssion for inland passenger water transport?\"], \n",
    "    [\"What are the requirements of reporting for electricity generation from natural gas where there might be fugative emissions?\"]\n",
    "]\n"
   ]
  },
  {
   "cell_type": "code",
   "execution_count": 20,
   "id": "62dfd3ff",
   "metadata": {},
   "outputs": [],
   "source": [
    "from sklearn.feature_extraction.text import TfidfVectorizer\n",
    "from sklearn.metrics.pairwise import linear_kernel\n",
    "\n",
    "vectorizer = TfidfVectorizer()\n",
    "vector_corpus = vectorizer.fit_transform(df[\"paragraph\"])\n",
    "\n",
    "\n",
    "def get_context(question):\n",
    "    q_v = vectorizer.transform(question)\n",
    "    lk_rank = linear_kernel(q_v, vector_corpus).flatten()\n",
    "    return df[\"paragraph\"][lk_rank.argsort()[-1]]"
   ]
  },
  {
   "cell_type": "code",
   "execution_count": 21,
   "id": "bb2170fc",
   "metadata": {},
   "outputs": [],
   "source": [
    "from transformers import pipeline\n",
    "\n",
    "\n",
    "MODEL = \"distilbert-base-uncased-distilled-squad\"\n",
    "qamodel = pipeline(\"question-answering\", model=MODEL, tokenizer=MODEL, device=-1)\n",
    "\n",
    "def get_answer_pipeline(question, context):\n",
    "    answer = qamodel(question=question, context=context)\n",
    "    return answer[\"answer\"].rstrip(\".\").rstrip(\",\").lstrip(\"(\").rstrip(\")\").rstrip(\".\").strip(\"'\").strip(\":\")\n"
   ]
  },
  {
   "cell_type": "code",
   "execution_count": 22,
   "id": "f10c0ed8",
   "metadata": {},
   "outputs": [
    {
     "name": "stdout",
     "output_type": "stream",
     "text": [
      "What fuel is used for manufacturing of chlorine?\n",
      "\n",
      "electricity\n",
      "\n",
      "For chlorine the value corresponding to an efficient level of electricity consumption was selected as the threshold given that the main source of energy used for the production of chlorine is electricity and by improving the energy efficiency of the process as well as using low carbon electricity sources  the activity can substantially contribute to the climate change mitigation objective\n",
      "----------------------------------------------------------------------------------------------------\n",
      "What metric is used for evaluating emission?\n",
      "\n",
      "gCO2e\n",
      "\n",
      "The threshold metric is gCO2e and not an intensity metric such as gCO2e unit of production as this enables the Taxonomy to be applied by both those reducing emission intensity eg through efficiency while also requiring them to reduce emissions overall  the overall goal\n",
      "----------------------------------------------------------------------------------------------------\n",
      "How can carbon emission of the processes of cement clinker be reduced?\n",
      "\n",
      "how electricity from renewable energies can be used\n",
      "\n",
      "cement eg concrete for specific building applications The focus should be on the substitution of clinker by binders with a lower content of embedded CO2 Cement is currently produced in many different qualities which are sometimes used in different applications As a result exchange between two qualities is not always possible Therefore on the way to a climateneutral economy it has to be determined which types of cement in which application areas can be replaced by those with a reduced clinker content taking into account the availability of clinker substitutes Within the decarbonisation of other industries it may be possible that material flows used today eg fly ash will no longer be available in the future as a clinker substitute while the suitability of other materials has not yet been proven The cement types which are absolutely necessary in a climateneutral economy and cannot be replaced must be produced in a climatefriendly way For these types it then should be examined to what extent the clinker ratio can be lowered how energy efficiency can be increased how electricity from renewable energies can be used etc\n",
      "----------------------------------------------------------------------------------------------------\n",
      "How is the Weighted Cogeneration Threshold calculated?\n",
      "\n",
      "The threshold will be set at a single value\n",
      "\n",
      "The threshold will be set at a single value for all new investments in electricity generation until it is revised in future It applies equally to the production of heating  cooling and cogeneration of heat and electricity\n",
      "----------------------------------------------------------------------------------------------------\n",
      "What is carbon capture and sequestration?\n",
      "\n",
      "anthropogenic activities\n",
      "\n",
      "The Technical Expert Group has developed criteria to define the eligibility of facilities used to capture carbon dioxide directly from the atmosphere and separately to capture carbon dioxide directly from anthropogenic activities\n",
      "----------------------------------------------------------------------------------------------------\n",
      "What stages does CCS consist of?\n",
      "\n",
      "capture transport and storage CO2 transport and storage\n",
      "\n",
      "A typical CCS chain consists of three main stages capture transport and storage CO2 transport and storage are established and proven processes with decades of operation and wellestablished regulation here in Europe\n",
      "----------------------------------------------------------------------------------------------------\n",
      "What should be the average energy consumption of a water supply system?\n",
      "\n",
      "05 kwh per cubic meter\n",
      "\n",
      "An average energy consumption of a water supply system of 05 kwh per cubic meter billedunbilled authorized water supply indicates a high performing system in terms of energy consumption Several energy efficiency measures can reduce directly the energy consumption in a water supply system enabling significant reductions of GHG emissions these are inter alia\n",
      "----------------------------------------------------------------------------------------------------\n",
      "What are examples of sludge treatments?\n",
      "\n",
      "Anaerobic Digestion AD and in some cases aerobic digestion\n",
      "\n",
      "Anaerobic Digestion AD and in some cases aerobic digestion are examples of sludge treatments In AD microorganisms decompose the organic matter of the sludge in the absence of oxygen and produce methanerich biogas\n",
      "----------------------------------------------------------------------------------------------------\n",
      "How is the process of anaerobic digestion?\n",
      "\n",
      "broadening the scope\n",
      "\n",
      "The main issues raised in the public feedback on activities in the subsector WSWR related to broadening the scope of some activities For anaerobic digestion of biowaste and similar for anaerobic digestion of sewage sludge and landfill gas capture and utilization respondents suggested to allow for additional uses of the produced biogas or landfill gas For the anaerobic digestion of biowaste respondents warned against the exclusion of certain crops and against the exclusion of blending of feedstocks Both issues are reflected in the revised criteria\n",
      "----------------------------------------------------------------------------------------------------\n",
      "How is reforestation defined?\n",
      "\n",
      "five NACE sector distinctions\n",
      "\n",
      "Different Forest NACE The current proposal for a Forest Taxonomy includes five NACE sector distinctions Afforestation Reforestation Rehabilitationrestoration Existing Forest Management and Conservation Forests Would it be necessary to establish a link between the use of wood products in another economy NACE and a specific forest sector NACE If so which one as all form part of the forest management system How would this be done and what if a product is used in multiple NACE categories how to count the multiple substitution\n",
      "----------------------------------------------------------------------------------------------------\n",
      "What is the threshold of emssion for inland passenger water transport?\n",
      "\n",
      "50g CO2epkm\n",
      "\n",
      "The threshold of 50g CO2epkm relates to the thresholds set for road passenger vehicles and passenger rail The criteria is based on actual ridership passengerkm and not capacity offered seat km or placeskm This should be justified through real monitoring data from operations or exante demand assessments If inland passenger water transport operations can at least match the thresholds of those modes it is deemed to be making a substantial contribution as it offers significantly lower emissions than average car emissions\n",
      "----------------------------------------------------------------------------------------------------\n",
      "What are the requirements of reporting for electricity generation from natural gas where there might be fugative emissions?\n",
      "\n",
      "ETS benchmarks\n",
      "\n",
      "According to the methodology to calculate ETS benchmarks emissions from electricity are considered where direct emissions and indirect emissions from electricity are to a certain level interchangeable\n",
      "----------------------------------------------------------------------------------------------------\n"
     ]
    }
   ],
   "source": [
    "for question in questions:\n",
    "    context = get_context(question)\n",
    "    answer = get_answer_pipeline(question, context)\n",
    "    print(f\"{question[0]}\\n\\n{answer}\\n\\n{context}\")\n",
    "    print(\"-\"*100)"
   ]
  },
  {
   "cell_type": "code",
   "execution_count": null,
   "id": "c16e412b",
   "metadata": {},
   "outputs": [],
   "source": []
  }
 ],
 "metadata": {
  "kernelspec": {
   "display_name": "Python 3.9.7 64-bit ('base': conda)",
   "language": "python",
   "name": "python397jvsc74a57bd03ca37b5f03a922454bfb77553c02bf14127aa6ee73b20e8de3195f045a69b6f9"
  },
  "language_info": {
   "codemirror_mode": {
    "name": "ipython",
    "version": 3
   },
   "file_extension": ".py",
   "mimetype": "text/x-python",
   "name": "python",
   "nbconvert_exporter": "python",
   "pygments_lexer": "ipython3",
   "version": "3.9.13"
  }
 },
 "nbformat": 4,
 "nbformat_minor": 5
}
